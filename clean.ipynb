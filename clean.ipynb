{
 "cells": [
  {
   "cell_type": "code",
   "execution_count": 6,
   "metadata": {},
   "outputs": [],
   "source": [
    "import os\n",
    "\n",
    "# Delete the folders in the 'folders_to_delete.txt' file if they exist\n",
    "# If the folder does not exist, ignore it\n",
    "folders = []\n",
    "with open('folders_to_delete.txt', 'r') as f:\n",
    "    for line in f:\n",
    "        folders.append(str(line.strip()))\n",
    "\n",
    "for folder in folders:\n",
    "    if os.path.exists(folder):\n",
    "        for file in os.listdir(folder):\n",
    "            os.remove(os.path.join(folder, file))\n",
    "        os.rmdir(folder)\n",
    "        \n",
    "os.remove('folders_to_delete.txt')\n",
    "os.remove('variables_needed_for_stats.txt')"
   ]
  }
 ],
 "metadata": {
  "kernelspec": {
   "display_name": "base",
   "language": "python",
   "name": "python3"
  },
  "language_info": {
   "codemirror_mode": {
    "name": "ipython",
    "version": 3
   },
   "file_extension": ".py",
   "mimetype": "text/x-python",
   "name": "python",
   "nbconvert_exporter": "python",
   "pygments_lexer": "ipython3",
   "version": "3.11.5"
  }
 },
 "nbformat": 4,
 "nbformat_minor": 2
}
